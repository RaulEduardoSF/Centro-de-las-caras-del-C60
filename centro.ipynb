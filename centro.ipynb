{
 "cells": [
  {
   "cell_type": "markdown",
   "id": "f3e44864",
   "metadata": {},
   "source": [
    "# Centro de poligonos en moleculas\n",
    "\n",
    "### Objetivo general\n",
    "\n",
    "```Este algoritmo propone calcular los centros de los poligonos que se puedan formar en las caras de una molecula mediante la definición de punto medio en gemoetría analitíca.```"
   ]
  },
  {
   "cell_type": "code",
   "execution_count": 1,
   "id": "d05f7bdb",
   "metadata": {},
   "outputs": [],
   "source": [
    "import numpy as np\n",
    "import pandas as pd\n",
    "import matplotlib.pyplot as plt\n",
    "from mpl_toolkits.mplot3d import Axes3D\n",
    "from vapory import *\n",
    "from itertools import combinations, permutations "
   ]
  },
  {
   "cell_type": "markdown",
   "id": "ed2d00c7",
   "metadata": {},
   "source": [
    "### Función para calcular distancia entre dos puntos\n",
    "```Entrada```\n",
    "\n",
    "    V1 - Vector inicial (list, array, tupla)\n",
    "    V2 - Vector final (list, array, tupla)\n",
    "```Salida```\n",
    "\n",
    "    Distancia (float)"
   ]
  },
  {
   "cell_type": "code",
   "execution_count": 2,
   "id": "0aed71a0",
   "metadata": {},
   "outputs": [],
   "source": [
    "def VDist(V1, V2):\n",
    "    dx = (V2[0]-V1[0])**2\n",
    "    dy = (V2[1]-V1[1])**2\n",
    "    dz = (V2[2]-V1[2])**2\n",
    "    return np.sqrt(dx + dy + dz)"
   ]
  },
  {
   "cell_type": "markdown",
   "id": "299a1a58",
   "metadata": {},
   "source": [
    "### Posiciónes\n",
    "\n",
    "```Se crea Tabla de las posiciónes de acuerdo sus coordenadas (X, Y, Z) a partir de un archvido de entrada .csv```"
   ]
  },
  {
   "cell_type": "code",
   "execution_count": 3,
   "id": "2542e67c",
   "metadata": {},
   "outputs": [],
   "source": [
    "pos = pd.read_csv('pos.csv', names=['X','Y','Z',''], usecols=[0,1,2])\n",
    "xyz = pos.iloc[:,:].to_numpy()\n",
    "xyzset = [tuple(t) for t in xyz]"
   ]
  },
  {
   "cell_type": "markdown",
   "id": "ef290352",
   "metadata": {},
   "source": [
    "### Calculo de los centros de N poligonos regulares desde un solo marco de referencia (origen)\n",
    "**poli** ```lista que almacena los vertices encontrados de un PENTAGONO pero se vacía luego de encontrarlos todos. Su función es asegurar que la iteración de los dos ciclos anidados no surgan repeticiónes de los vertices ya encontrados```.\n",
    "\n",
    "**centros** ```lista que almacena los centros calculados de un PENTAGONO```"
   ]
  },
  {
   "cell_type": "code",
   "execution_count": 38,
   "id": "118999b3",
   "metadata": {},
   "outputs": [],
   "source": [
    "poli = []\n",
    "centros = []\n",
    "i=0\n",
    "while (i<60):\n",
    "    j = 0\n",
    "    k = 0\n",
    "    P_i = xyzset[i]\n",
    "    poli.append(P_i)\n",
    "    c = P_i\n",
    "    while (j<60):\n",
    "        P_j = xyzset[j]\n",
    "        d = VDist(poli[k], P_j)\n",
    "        if (d < 1.46 and d > 1.44 and P_j not in poli and k < 4):          \n",
    "            c = tuple(map(sum, zip(c, P_j)))\n",
    "            #print(c)\n",
    "            k += 1\n",
    "            poli.append(P_j)            \n",
    "            j = 0\n",
    "        else:\n",
    "            j += 1\n",
    "    if (k>3 and k<5):\n",
    "        c = tuple(t/5 for t in c)\n",
    "        if (c not in centros):\n",
    "            centros.append(c)        \n",
    "    poli=[]\n",
    "    i += 1\n"
   ]
  },
  {
   "cell_type": "code",
   "execution_count": 39,
   "id": "b10e59e0",
   "metadata": {},
   "outputs": [
    {
     "data": {
      "text/plain": [
       "[(0.9246, 2.8449, 1.4958),\n",
       " (2.42, 1.7581, -1.4953),\n",
       " (2.42, -1.7581, -1.4953),\n",
       " (-2.42, 1.7581, 1.4953),\n",
       " (0.9246, -2.8449, 1.4958),\n",
       " (-0.9246, -2.8449, -1.4958),\n",
       " (-0.9246, 2.8449, -1.4958),\n",
       " (-2.42, -1.7581, 1.4953),\n",
       " (0.0002, 0.0, 3.3451),\n",
       " (2.9916, 0.0, 1.4959),\n",
       " (-2.9916, -0.0, -1.4959),\n",
       " (-0.0002, -0.0, -3.3451)]"
      ]
     },
     "execution_count": 39,
     "metadata": {},
     "output_type": "execute_result"
    }
   ],
   "source": [
    "centros = list(set([tuple(p) for p in np.round(centros, decimals = 4)]))\n",
    "centros"
   ]
  },
  {
   "cell_type": "markdown",
   "id": "aa5c8f9c",
   "metadata": {
    "scrolled": true
   },
   "source": [
    "hexa = []\n",
    "centros = []\n",
    "i = 0\n",
    "while (i<60):\n",
    "    j = 0\n",
    "    k = 0            # Contador de vertices HEXAGONO\n",
    "    P_i = xyzset[i]\n",
    "    Poli.append(P_ie)\n",
    "    c = P_i\n",
    "    while (j<60):\n",
    "        P_j = xyzset[j]\n",
    "        d = VDist(poli[k], P_j)\n",
    "        if (d < 1.41 and P_j not in poli and np.mod(k,2) == 1):          \n",
    "            c = tuple(map(sum, zip(c, P_j)))\n",
    "            #print(c)\n",
    "            k += 1\n",
    "            poli.append(P_j)            \n",
    "            j = 0\n",
    "        elif (d > 1.41 and d < 1.47 and P_j not in poli and np.mod(k,2) == 0):\n",
    "            c = tuple(map(sum, zip(c, P_j)))\n",
    "            #print(c)\n",
    "            k += 1\n",
    "            poli.append(P_j)            \n",
    "            j = 0\n",
    "        else:\n",
    "            j += 1\n",
    "        "
   ]
  },
  {
   "cell_type": "code",
   "execution_count": null,
   "id": "fc84141c",
   "metadata": {},
   "outputs": [],
   "source": [
    "np.mod(0,2)"
   ]
  },
  {
   "cell_type": "markdown",
   "id": "013e94d6",
   "metadata": {},
   "source": [
    "### Save file as .txt format"
   ]
  },
  {
   "cell_type": "code",
   "execution_count": 6,
   "id": "bf0d6858",
   "metadata": {
    "scrolled": true
   },
   "outputs": [],
   "source": [
    "df = pd.DataFrame(centros, columns=['X','Y','Z'])\n",
    "df1 = df.drop_duplicates(keep=False, inplace=False)"
   ]
  },
  {
   "cell_type": "code",
   "execution_count": 7,
   "id": "1244157b",
   "metadata": {},
   "outputs": [],
   "source": [
    "df.to_csv('centros.txt', sep=',', index=False, header=False, float_format='%.14f')"
   ]
  },
  {
   "cell_type": "code",
   "execution_count": 8,
   "id": "2c2e881b",
   "metadata": {},
   "outputs": [
    {
     "data": {
      "text/plain": [
       "[]"
      ]
     },
     "execution_count": 8,
     "metadata": {},
     "output_type": "execute_result"
    }
   ],
   "source": [
    "centros"
   ]
  },
  {
   "cell_type": "code",
   "execution_count": null,
   "id": "f3bc1b38",
   "metadata": {},
   "outputs": [],
   "source": []
  }
 ],
 "metadata": {
  "kernelspec": {
   "display_name": "Python 3 (ipykernel)",
   "language": "python",
   "name": "python3"
  },
  "language_info": {
   "codemirror_mode": {
    "name": "ipython",
    "version": 3
   },
   "file_extension": ".py",
   "mimetype": "text/x-python",
   "name": "python",
   "nbconvert_exporter": "python",
   "pygments_lexer": "ipython3",
   "version": "3.8.8"
  }
 },
 "nbformat": 4,
 "nbformat_minor": 5
}
